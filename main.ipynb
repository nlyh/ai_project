{
 "cells": [
  {
   "cell_type": "code",
   "execution_count": null,
   "metadata": {},
   "outputs": [],
   "source": [
    "!git clone https://ghproxy.com/github.com/AUTOMATIC1111/stable-diffusion-webui\n",
    "%cd stable-diffusion-webui\n",
    "!wget https://huggingface.co/gsdf/Counterfeit-V3.0/resolve/main/Counterfeit-V3.0_fp32.safetensors  -O /content/stable-diffusion-webui//models/Stable-diffusion/Counterfeit.safetensors\n",
    "!wget https://huggingface.co/gsdf/Counterfeit-V2.5/resolve/main/Counterfeit-V2.5.vae.pt -O /content/stable-diffusion-webui/models/VAE/Counterfeit-V2.5.vae.pt\n",
    "!mkdir  /content/stable-diffusion-webui/models/Lora\n",
    "!wget -O /content/stable-diffusion-webui/embeddings/EasyNegative.pt  https://huggingface.co/datasets/gsdf/EasyNegative/resolve/main/EasyNegative.pt \n",
    "!wget  -O /content/stable-diffusion-webui/models/Lora/koreanponytaillora_v10.safetensors.safetens  https://civitai.com/api/download/models/25976?type=Model&format=SafeTensor \n",
    "!wget -O /content/stable-diffusion-webui/models/Lora/hanfu_v29.safetensors https://civitai.com/api/download/models/27946?type=Model&format=SafeTensor "
   ]
  },
  {
   "cell_type": "code",
   "execution_count": null,
   "metadata": {},
   "outputs": [],
   "source": [
    "!COMMANDLINE_ARGS=\"--share --gradio-debug --gradio-auth me:qwerty  --ckpt-dir /content/stable-diffusion-webui/models/Stable-diffusion/\" REQS_FILE=\"requirements.txt\" python launch.py"
   ]
  }
 ],
 "metadata": {
  "language_info": {
   "name": "python"
  },
  "orig_nbformat": 4
 },
 "nbformat": 4,
 "nbformat_minor": 2
}
